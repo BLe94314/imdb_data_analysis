{
  "nbformat": 4,
  "nbformat_minor": 0,
  "metadata": {
    "colab": {
      "provenance": []
    },
    "kernelspec": {
      "name": "python3",
      "display_name": "Python 3"
    },
    "language_info": {
      "name": "python"
    }
  },
  "cells": [
    {
      "cell_type": "markdown",
      "source": [
        "# Data Scraping Project"
      ],
      "metadata": {
        "id": "SJsCO5fKagul"
      }
    },
    {
      "cell_type": "markdown",
      "source": [
        "## Introduction"
      ],
      "metadata": {
        "id": "np_A5N7gzf3q"
      }
    },
    {
      "cell_type": "markdown",
      "source": [
        "The Data Scraping Project analyzes the top movies on IMDb using web scraping techniques in Python. The libraries 'Requests', 'BeautifulSoup', and 'pandas' were utilized to clean the data and organize the information into an easy-to-read format.\n",
        "\n",
        "The following project demonstrates the implementation of these skills:\n",
        "* HTML and JSON Parsing\n",
        "* Data Cleaning and Preprocessing\n",
        "* Data analysis and visualization using Pandas and Matplotlib.\n",
        "* Interpreting Results from Insights"
      ],
      "metadata": {
        "id": "f-3xa3jizhfB"
      }
    },
    {
      "cell_type": "markdown",
      "source": [
        "## Project Setup"
      ],
      "metadata": {
        "id": "nm9TW8yIbFuN"
      }
    },
    {
      "cell_type": "code",
      "source": [
        "# Dependencies\n",
        "!pip install requests html5lib bs4\n",
        "\n",
        "# Imports\n",
        "from bs4 import BeautifulSoup\n",
        "import requests\n",
        "import pandas as pd\n",
        "import json\n",
        "import matplotlib.pyplot as plt\n",
        "import seaborn as sns\n",
        "from collections import Counter"
      ],
      "metadata": {
        "colab": {
          "base_uri": "https://localhost:8080/"
        },
        "id": "NkZa8lEV0w-j",
        "outputId": "6a737702-1c96-43f3-e144-cfcde7396989"
      },
      "execution_count": 1,
      "outputs": [
        {
          "output_type": "stream",
          "name": "stdout",
          "text": [
            "Requirement already satisfied: requests in /usr/local/lib/python3.12/dist-packages (2.32.4)\n",
            "Requirement already satisfied: html5lib in /usr/local/lib/python3.12/dist-packages (1.1)\n",
            "Collecting bs4\n",
            "  Downloading bs4-0.0.2-py2.py3-none-any.whl.metadata (411 bytes)\n",
            "Requirement already satisfied: charset_normalizer<4,>=2 in /usr/local/lib/python3.12/dist-packages (from requests) (3.4.3)\n",
            "Requirement already satisfied: idna<4,>=2.5 in /usr/local/lib/python3.12/dist-packages (from requests) (3.10)\n",
            "Requirement already satisfied: urllib3<3,>=1.21.1 in /usr/local/lib/python3.12/dist-packages (from requests) (2.5.0)\n",
            "Requirement already satisfied: certifi>=2017.4.17 in /usr/local/lib/python3.12/dist-packages (from requests) (2025.8.3)\n",
            "Requirement already satisfied: six>=1.9 in /usr/local/lib/python3.12/dist-packages (from html5lib) (1.17.0)\n",
            "Requirement already satisfied: webencodings in /usr/local/lib/python3.12/dist-packages (from html5lib) (0.5.1)\n",
            "Requirement already satisfied: beautifulsoup4 in /usr/local/lib/python3.12/dist-packages (from bs4) (4.13.5)\n",
            "Requirement already satisfied: soupsieve>1.2 in /usr/local/lib/python3.12/dist-packages (from beautifulsoup4->bs4) (2.8)\n",
            "Requirement already satisfied: typing-extensions>=4.0.0 in /usr/local/lib/python3.12/dist-packages (from beautifulsoup4->bs4) (4.15.0)\n",
            "Downloading bs4-0.0.2-py2.py3-none-any.whl (1.2 kB)\n",
            "Installing collected packages: bs4\n",
            "Successfully installed bs4-0.0.2\n"
          ]
        }
      ]
    },
    {
      "cell_type": "markdown",
      "source": [
        "## Web Scraping the Top Movies from IMDb (https://www.imdb.com/chart/top)."
      ],
      "metadata": {
        "id": "LiDhSM2aaoNx"
      }
    },
    {
      "cell_type": "markdown",
      "source": [
        "The following information was collected:\n",
        "- Title\n",
        "- Release Year\n",
        "- Genre(s)\n",
        "- Runtime\n",
        "- IMDb Rating\n",
        "- Age Rating"
      ],
      "metadata": {
        "id": "46YiH-dP52G2"
      }
    },
    {
      "cell_type": "code",
      "source": [
        "def scrape_imdb_top_movies(url=\"https://www.imdb.com/chart/top\"):\n",
        "  headers = {\"User-Agent\": \"Mozilla/5.0 (Macintosh; Intel Mac OS X 10_15_7) AppleWebKit/537.36 (KHTML, like Gecko) Chrome/110.0.0.0 Safari/537.36\", \"Accept-Language\": \"en-US,en;q=0.5\"}\n",
        "  response = requests.get(url, headers=headers)\n",
        "  soup = BeautifulSoup(response.text, \"html.parser\")\n",
        "\n",
        "  movies = soup.select(\"li.ipc-metadata-list-summary-item\")\n",
        "  script_tag = soup.find(\"script\", type=\"application/ld+json\")\n",
        "  json_data = json.loads(script_tag.string)\n",
        "  json_movies = json_data.get(\"itemListElement\", [])\n",
        "\n",
        "  movie_data = []\n",
        "\n",
        "  for i, movie in enumerate(movies[:250]):\n",
        "      # Collects HTML data\n",
        "      title = movie.select_one(\"h3\").get_text(strip=True)\n",
        "      metadata_items = movie.select(\".cli-title-metadata-item\")\n",
        "      release_year = metadata_items[0].get_text(strip=True)\n",
        "      runtime = metadata_items[1].get_text(strip=True)\n",
        "      age_rating = metadata_items[2].get_text(strip=True)\n",
        "      rating_items = movie.select(\".ipc-rating-star--rating\")\n",
        "      rating = rating_items[0].get_text(strip=True)\n",
        "\n",
        "      # Collects JSON data\n",
        "      genre = json_movies[i][\"item\"].get(\"genre\")\n",
        "\n",
        "      movie_data.append({\n",
        "          \"Title\": title,\n",
        "          \"Release Year\": release_year,\n",
        "          \"Genres\": genre,\n",
        "          \"Runtime\": runtime,\n",
        "          \"Rating\": rating,\n",
        "          \"Age Rating\": age_rating\n",
        "      })\n",
        "\n",
        "  return pd.DataFrame(movie_data)"
      ],
      "metadata": {
        "id": "E_1ob5jxmcwd"
      },
      "execution_count": 2,
      "outputs": []
    },
    {
      "cell_type": "code",
      "source": [
        "movies_df = scrape_imdb_top_movies()"
      ],
      "metadata": {
        "id": "olyZBFsqnsqC"
      },
      "execution_count": 3,
      "outputs": []
    },
    {
      "cell_type": "code",
      "source": [
        "print(\"Number of movies:\", len(movies_df))"
      ],
      "metadata": {
        "colab": {
          "base_uri": "https://localhost:8080/"
        },
        "id": "cPqCc_hCLYM3",
        "outputId": "e707f208-08ba-4cec-8cbb-d3eac9a98116"
      },
      "execution_count": 4,
      "outputs": [
        {
          "output_type": "stream",
          "name": "stdout",
          "text": [
            "Number of movies: 25\n"
          ]
        }
      ]
    },
    {
      "cell_type": "code",
      "source": [
        "movies_df"
      ],
      "metadata": {
        "colab": {
          "base_uri": "https://localhost:8080/",
          "height": 833
        },
        "id": "ZxxNV1U6_QM6",
        "outputId": "9b560326-a7ef-4ff0-f43c-41b1bafbf24a"
      },
      "execution_count": 5,
      "outputs": [
        {
          "output_type": "execute_result",
          "data": {
            "text/plain": [
              "                                                Title Release Year  \\\n",
              "0                         1. The Shawshank Redemption         1994   \n",
              "1                                    2. The Godfather         1972   \n",
              "2                                  3. The Dark Knight         2008   \n",
              "3                            4. The Godfather Part II         1974   \n",
              "4                                     5. 12 Angry Men         1957   \n",
              "5    6. The Lord of the Rings: The Return of the King         2003   \n",
              "6                                 7. Schindler's List         1993   \n",
              "7                                     8. Pulp Fiction         1994   \n",
              "8   9. The Lord of the Rings: The Fellowship of th...         2001   \n",
              "9                  10. The Good, the Bad and the Ugly         1966   \n",
              "10                                   11. Forrest Gump         1994   \n",
              "11          12. The Lord of the Rings: The Two Towers         2002   \n",
              "12                                     13. Fight Club         1999   \n",
              "13                                      14. Inception         2010   \n",
              "14  15. Star Wars: Episode V - The Empire Strikes ...         1980   \n",
              "15                                     16. The Matrix         1999   \n",
              "16                                     17. Goodfellas         1990   \n",
              "17                                   18. Interstellar         2014   \n",
              "18                19. One Flew Over the Cuckoo's Nest         1975   \n",
              "19                                          20. Se7en         1995   \n",
              "20                          21. It's a Wonderful Life         1946   \n",
              "21                       22. The Silence of the Lambs         1991   \n",
              "22                                  23. Seven Samurai         1954   \n",
              "23                            24. Saving Private Ryan         1998   \n",
              "24                                 25. The Green Mile         1999   \n",
              "\n",
              "                        Genres Runtime Rating Age Rating  \n",
              "0                        Drama  2h 22m    9.3          R  \n",
              "1                 Crime, Drama  2h 55m    9.2          R  \n",
              "2         Action, Crime, Drama  2h 32m    9.1      PG-13  \n",
              "3                 Crime, Drama  3h 22m    9.0          R  \n",
              "4                 Crime, Drama  1h 36m    9.0   Approved  \n",
              "5    Adventure, Drama, Fantasy  3h 21m    9.0      PG-13  \n",
              "6    Biography, Drama, History  3h 15m    9.0          R  \n",
              "7                 Crime, Drama  2h 34m    8.8          R  \n",
              "8    Adventure, Drama, Fantasy  2h 58m    8.9      PG-13  \n",
              "9    Adventure, Drama, Western  2h 58m    8.8          R  \n",
              "10              Drama, Romance  2h 22m    8.8      PG-13  \n",
              "11   Adventure, Drama, Fantasy  2h 59m    8.8      PG-13  \n",
              "12      Crime, Drama, Thriller  2h 19m    8.8          R  \n",
              "13   Action, Adventure, Sci-Fi  2h 28m    8.8      PG-13  \n",
              "14  Action, Adventure, Fantasy   2h 4m    8.7         PG  \n",
              "15              Action, Sci-Fi  2h 16m    8.7          R  \n",
              "16     Biography, Crime, Drama  2h 25m    8.7          R  \n",
              "17    Adventure, Drama, Sci-Fi  2h 49m    8.7      PG-13  \n",
              "18                       Drama  2h 13m    8.7          R  \n",
              "19       Crime, Drama, Mystery   2h 7m    8.6          R  \n",
              "20      Drama, Family, Fantasy  2h 10m    8.6         PG  \n",
              "21        Crime, Drama, Horror  1h 58m    8.6          R  \n",
              "22               Action, Drama  3h 27m    8.6  Not Rated  \n",
              "23                  Drama, War  2h 49m    8.6          R  \n",
              "24       Crime, Drama, Fantasy   3h 9m    8.6          R  "
            ],
            "text/html": [
              "\n",
              "  <div id=\"df-12629820-485d-4c3e-906f-3ae9e050c11c\" class=\"colab-df-container\">\n",
              "    <div>\n",
              "<style scoped>\n",
              "    .dataframe tbody tr th:only-of-type {\n",
              "        vertical-align: middle;\n",
              "    }\n",
              "\n",
              "    .dataframe tbody tr th {\n",
              "        vertical-align: top;\n",
              "    }\n",
              "\n",
              "    .dataframe thead th {\n",
              "        text-align: right;\n",
              "    }\n",
              "</style>\n",
              "<table border=\"1\" class=\"dataframe\">\n",
              "  <thead>\n",
              "    <tr style=\"text-align: right;\">\n",
              "      <th></th>\n",
              "      <th>Title</th>\n",
              "      <th>Release Year</th>\n",
              "      <th>Genres</th>\n",
              "      <th>Runtime</th>\n",
              "      <th>Rating</th>\n",
              "      <th>Age Rating</th>\n",
              "    </tr>\n",
              "  </thead>\n",
              "  <tbody>\n",
              "    <tr>\n",
              "      <th>0</th>\n",
              "      <td>1. The Shawshank Redemption</td>\n",
              "      <td>1994</td>\n",
              "      <td>Drama</td>\n",
              "      <td>2h 22m</td>\n",
              "      <td>9.3</td>\n",
              "      <td>R</td>\n",
              "    </tr>\n",
              "    <tr>\n",
              "      <th>1</th>\n",
              "      <td>2. The Godfather</td>\n",
              "      <td>1972</td>\n",
              "      <td>Crime, Drama</td>\n",
              "      <td>2h 55m</td>\n",
              "      <td>9.2</td>\n",
              "      <td>R</td>\n",
              "    </tr>\n",
              "    <tr>\n",
              "      <th>2</th>\n",
              "      <td>3. The Dark Knight</td>\n",
              "      <td>2008</td>\n",
              "      <td>Action, Crime, Drama</td>\n",
              "      <td>2h 32m</td>\n",
              "      <td>9.1</td>\n",
              "      <td>PG-13</td>\n",
              "    </tr>\n",
              "    <tr>\n",
              "      <th>3</th>\n",
              "      <td>4. The Godfather Part II</td>\n",
              "      <td>1974</td>\n",
              "      <td>Crime, Drama</td>\n",
              "      <td>3h 22m</td>\n",
              "      <td>9.0</td>\n",
              "      <td>R</td>\n",
              "    </tr>\n",
              "    <tr>\n",
              "      <th>4</th>\n",
              "      <td>5. 12 Angry Men</td>\n",
              "      <td>1957</td>\n",
              "      <td>Crime, Drama</td>\n",
              "      <td>1h 36m</td>\n",
              "      <td>9.0</td>\n",
              "      <td>Approved</td>\n",
              "    </tr>\n",
              "    <tr>\n",
              "      <th>5</th>\n",
              "      <td>6. The Lord of the Rings: The Return of the King</td>\n",
              "      <td>2003</td>\n",
              "      <td>Adventure, Drama, Fantasy</td>\n",
              "      <td>3h 21m</td>\n",
              "      <td>9.0</td>\n",
              "      <td>PG-13</td>\n",
              "    </tr>\n",
              "    <tr>\n",
              "      <th>6</th>\n",
              "      <td>7. Schindler's List</td>\n",
              "      <td>1993</td>\n",
              "      <td>Biography, Drama, History</td>\n",
              "      <td>3h 15m</td>\n",
              "      <td>9.0</td>\n",
              "      <td>R</td>\n",
              "    </tr>\n",
              "    <tr>\n",
              "      <th>7</th>\n",
              "      <td>8. Pulp Fiction</td>\n",
              "      <td>1994</td>\n",
              "      <td>Crime, Drama</td>\n",
              "      <td>2h 34m</td>\n",
              "      <td>8.8</td>\n",
              "      <td>R</td>\n",
              "    </tr>\n",
              "    <tr>\n",
              "      <th>8</th>\n",
              "      <td>9. The Lord of the Rings: The Fellowship of th...</td>\n",
              "      <td>2001</td>\n",
              "      <td>Adventure, Drama, Fantasy</td>\n",
              "      <td>2h 58m</td>\n",
              "      <td>8.9</td>\n",
              "      <td>PG-13</td>\n",
              "    </tr>\n",
              "    <tr>\n",
              "      <th>9</th>\n",
              "      <td>10. The Good, the Bad and the Ugly</td>\n",
              "      <td>1966</td>\n",
              "      <td>Adventure, Drama, Western</td>\n",
              "      <td>2h 58m</td>\n",
              "      <td>8.8</td>\n",
              "      <td>R</td>\n",
              "    </tr>\n",
              "    <tr>\n",
              "      <th>10</th>\n",
              "      <td>11. Forrest Gump</td>\n",
              "      <td>1994</td>\n",
              "      <td>Drama, Romance</td>\n",
              "      <td>2h 22m</td>\n",
              "      <td>8.8</td>\n",
              "      <td>PG-13</td>\n",
              "    </tr>\n",
              "    <tr>\n",
              "      <th>11</th>\n",
              "      <td>12. The Lord of the Rings: The Two Towers</td>\n",
              "      <td>2002</td>\n",
              "      <td>Adventure, Drama, Fantasy</td>\n",
              "      <td>2h 59m</td>\n",
              "      <td>8.8</td>\n",
              "      <td>PG-13</td>\n",
              "    </tr>\n",
              "    <tr>\n",
              "      <th>12</th>\n",
              "      <td>13. Fight Club</td>\n",
              "      <td>1999</td>\n",
              "      <td>Crime, Drama, Thriller</td>\n",
              "      <td>2h 19m</td>\n",
              "      <td>8.8</td>\n",
              "      <td>R</td>\n",
              "    </tr>\n",
              "    <tr>\n",
              "      <th>13</th>\n",
              "      <td>14. Inception</td>\n",
              "      <td>2010</td>\n",
              "      <td>Action, Adventure, Sci-Fi</td>\n",
              "      <td>2h 28m</td>\n",
              "      <td>8.8</td>\n",
              "      <td>PG-13</td>\n",
              "    </tr>\n",
              "    <tr>\n",
              "      <th>14</th>\n",
              "      <td>15. Star Wars: Episode V - The Empire Strikes ...</td>\n",
              "      <td>1980</td>\n",
              "      <td>Action, Adventure, Fantasy</td>\n",
              "      <td>2h 4m</td>\n",
              "      <td>8.7</td>\n",
              "      <td>PG</td>\n",
              "    </tr>\n",
              "    <tr>\n",
              "      <th>15</th>\n",
              "      <td>16. The Matrix</td>\n",
              "      <td>1999</td>\n",
              "      <td>Action, Sci-Fi</td>\n",
              "      <td>2h 16m</td>\n",
              "      <td>8.7</td>\n",
              "      <td>R</td>\n",
              "    </tr>\n",
              "    <tr>\n",
              "      <th>16</th>\n",
              "      <td>17. Goodfellas</td>\n",
              "      <td>1990</td>\n",
              "      <td>Biography, Crime, Drama</td>\n",
              "      <td>2h 25m</td>\n",
              "      <td>8.7</td>\n",
              "      <td>R</td>\n",
              "    </tr>\n",
              "    <tr>\n",
              "      <th>17</th>\n",
              "      <td>18. Interstellar</td>\n",
              "      <td>2014</td>\n",
              "      <td>Adventure, Drama, Sci-Fi</td>\n",
              "      <td>2h 49m</td>\n",
              "      <td>8.7</td>\n",
              "      <td>PG-13</td>\n",
              "    </tr>\n",
              "    <tr>\n",
              "      <th>18</th>\n",
              "      <td>19. One Flew Over the Cuckoo's Nest</td>\n",
              "      <td>1975</td>\n",
              "      <td>Drama</td>\n",
              "      <td>2h 13m</td>\n",
              "      <td>8.7</td>\n",
              "      <td>R</td>\n",
              "    </tr>\n",
              "    <tr>\n",
              "      <th>19</th>\n",
              "      <td>20. Se7en</td>\n",
              "      <td>1995</td>\n",
              "      <td>Crime, Drama, Mystery</td>\n",
              "      <td>2h 7m</td>\n",
              "      <td>8.6</td>\n",
              "      <td>R</td>\n",
              "    </tr>\n",
              "    <tr>\n",
              "      <th>20</th>\n",
              "      <td>21. It's a Wonderful Life</td>\n",
              "      <td>1946</td>\n",
              "      <td>Drama, Family, Fantasy</td>\n",
              "      <td>2h 10m</td>\n",
              "      <td>8.6</td>\n",
              "      <td>PG</td>\n",
              "    </tr>\n",
              "    <tr>\n",
              "      <th>21</th>\n",
              "      <td>22. The Silence of the Lambs</td>\n",
              "      <td>1991</td>\n",
              "      <td>Crime, Drama, Horror</td>\n",
              "      <td>1h 58m</td>\n",
              "      <td>8.6</td>\n",
              "      <td>R</td>\n",
              "    </tr>\n",
              "    <tr>\n",
              "      <th>22</th>\n",
              "      <td>23. Seven Samurai</td>\n",
              "      <td>1954</td>\n",
              "      <td>Action, Drama</td>\n",
              "      <td>3h 27m</td>\n",
              "      <td>8.6</td>\n",
              "      <td>Not Rated</td>\n",
              "    </tr>\n",
              "    <tr>\n",
              "      <th>23</th>\n",
              "      <td>24. Saving Private Ryan</td>\n",
              "      <td>1998</td>\n",
              "      <td>Drama, War</td>\n",
              "      <td>2h 49m</td>\n",
              "      <td>8.6</td>\n",
              "      <td>R</td>\n",
              "    </tr>\n",
              "    <tr>\n",
              "      <th>24</th>\n",
              "      <td>25. The Green Mile</td>\n",
              "      <td>1999</td>\n",
              "      <td>Crime, Drama, Fantasy</td>\n",
              "      <td>3h 9m</td>\n",
              "      <td>8.6</td>\n",
              "      <td>R</td>\n",
              "    </tr>\n",
              "  </tbody>\n",
              "</table>\n",
              "</div>\n",
              "    <div class=\"colab-df-buttons\">\n",
              "\n",
              "  <div class=\"colab-df-container\">\n",
              "    <button class=\"colab-df-convert\" onclick=\"convertToInteractive('df-12629820-485d-4c3e-906f-3ae9e050c11c')\"\n",
              "            title=\"Convert this dataframe to an interactive table.\"\n",
              "            style=\"display:none;\">\n",
              "\n",
              "  <svg xmlns=\"http://www.w3.org/2000/svg\" height=\"24px\" viewBox=\"0 -960 960 960\">\n",
              "    <path d=\"M120-120v-720h720v720H120Zm60-500h600v-160H180v160Zm220 220h160v-160H400v160Zm0 220h160v-160H400v160ZM180-400h160v-160H180v160Zm440 0h160v-160H620v160ZM180-180h160v-160H180v160Zm440 0h160v-160H620v160Z\"/>\n",
              "  </svg>\n",
              "    </button>\n",
              "\n",
              "  <style>\n",
              "    .colab-df-container {\n",
              "      display:flex;\n",
              "      gap: 12px;\n",
              "    }\n",
              "\n",
              "    .colab-df-convert {\n",
              "      background-color: #E8F0FE;\n",
              "      border: none;\n",
              "      border-radius: 50%;\n",
              "      cursor: pointer;\n",
              "      display: none;\n",
              "      fill: #1967D2;\n",
              "      height: 32px;\n",
              "      padding: 0 0 0 0;\n",
              "      width: 32px;\n",
              "    }\n",
              "\n",
              "    .colab-df-convert:hover {\n",
              "      background-color: #E2EBFA;\n",
              "      box-shadow: 0px 1px 2px rgba(60, 64, 67, 0.3), 0px 1px 3px 1px rgba(60, 64, 67, 0.15);\n",
              "      fill: #174EA6;\n",
              "    }\n",
              "\n",
              "    .colab-df-buttons div {\n",
              "      margin-bottom: 4px;\n",
              "    }\n",
              "\n",
              "    [theme=dark] .colab-df-convert {\n",
              "      background-color: #3B4455;\n",
              "      fill: #D2E3FC;\n",
              "    }\n",
              "\n",
              "    [theme=dark] .colab-df-convert:hover {\n",
              "      background-color: #434B5C;\n",
              "      box-shadow: 0px 1px 3px 1px rgba(0, 0, 0, 0.15);\n",
              "      filter: drop-shadow(0px 1px 2px rgba(0, 0, 0, 0.3));\n",
              "      fill: #FFFFFF;\n",
              "    }\n",
              "  </style>\n",
              "\n",
              "    <script>\n",
              "      const buttonEl =\n",
              "        document.querySelector('#df-12629820-485d-4c3e-906f-3ae9e050c11c button.colab-df-convert');\n",
              "      buttonEl.style.display =\n",
              "        google.colab.kernel.accessAllowed ? 'block' : 'none';\n",
              "\n",
              "      async function convertToInteractive(key) {\n",
              "        const element = document.querySelector('#df-12629820-485d-4c3e-906f-3ae9e050c11c');\n",
              "        const dataTable =\n",
              "          await google.colab.kernel.invokeFunction('convertToInteractive',\n",
              "                                                    [key], {});\n",
              "        if (!dataTable) return;\n",
              "\n",
              "        const docLinkHtml = 'Like what you see? Visit the ' +\n",
              "          '<a target=\"_blank\" href=https://colab.research.google.com/notebooks/data_table.ipynb>data table notebook</a>'\n",
              "          + ' to learn more about interactive tables.';\n",
              "        element.innerHTML = '';\n",
              "        dataTable['output_type'] = 'display_data';\n",
              "        await google.colab.output.renderOutput(dataTable, element);\n",
              "        const docLink = document.createElement('div');\n",
              "        docLink.innerHTML = docLinkHtml;\n",
              "        element.appendChild(docLink);\n",
              "      }\n",
              "    </script>\n",
              "  </div>\n",
              "\n",
              "\n",
              "    <div id=\"df-e83bfd27-2938-4c4c-94e6-649deedadafe\">\n",
              "      <button class=\"colab-df-quickchart\" onclick=\"quickchart('df-e83bfd27-2938-4c4c-94e6-649deedadafe')\"\n",
              "                title=\"Suggest charts\"\n",
              "                style=\"display:none;\">\n",
              "\n",
              "<svg xmlns=\"http://www.w3.org/2000/svg\" height=\"24px\"viewBox=\"0 0 24 24\"\n",
              "     width=\"24px\">\n",
              "    <g>\n",
              "        <path d=\"M19 3H5c-1.1 0-2 .9-2 2v14c0 1.1.9 2 2 2h14c1.1 0 2-.9 2-2V5c0-1.1-.9-2-2-2zM9 17H7v-7h2v7zm4 0h-2V7h2v10zm4 0h-2v-4h2v4z\"/>\n",
              "    </g>\n",
              "</svg>\n",
              "      </button>\n",
              "\n",
              "<style>\n",
              "  .colab-df-quickchart {\n",
              "      --bg-color: #E8F0FE;\n",
              "      --fill-color: #1967D2;\n",
              "      --hover-bg-color: #E2EBFA;\n",
              "      --hover-fill-color: #174EA6;\n",
              "      --disabled-fill-color: #AAA;\n",
              "      --disabled-bg-color: #DDD;\n",
              "  }\n",
              "\n",
              "  [theme=dark] .colab-df-quickchart {\n",
              "      --bg-color: #3B4455;\n",
              "      --fill-color: #D2E3FC;\n",
              "      --hover-bg-color: #434B5C;\n",
              "      --hover-fill-color: #FFFFFF;\n",
              "      --disabled-bg-color: #3B4455;\n",
              "      --disabled-fill-color: #666;\n",
              "  }\n",
              "\n",
              "  .colab-df-quickchart {\n",
              "    background-color: var(--bg-color);\n",
              "    border: none;\n",
              "    border-radius: 50%;\n",
              "    cursor: pointer;\n",
              "    display: none;\n",
              "    fill: var(--fill-color);\n",
              "    height: 32px;\n",
              "    padding: 0;\n",
              "    width: 32px;\n",
              "  }\n",
              "\n",
              "  .colab-df-quickchart:hover {\n",
              "    background-color: var(--hover-bg-color);\n",
              "    box-shadow: 0 1px 2px rgba(60, 64, 67, 0.3), 0 1px 3px 1px rgba(60, 64, 67, 0.15);\n",
              "    fill: var(--button-hover-fill-color);\n",
              "  }\n",
              "\n",
              "  .colab-df-quickchart-complete:disabled,\n",
              "  .colab-df-quickchart-complete:disabled:hover {\n",
              "    background-color: var(--disabled-bg-color);\n",
              "    fill: var(--disabled-fill-color);\n",
              "    box-shadow: none;\n",
              "  }\n",
              "\n",
              "  .colab-df-spinner {\n",
              "    border: 2px solid var(--fill-color);\n",
              "    border-color: transparent;\n",
              "    border-bottom-color: var(--fill-color);\n",
              "    animation:\n",
              "      spin 1s steps(1) infinite;\n",
              "  }\n",
              "\n",
              "  @keyframes spin {\n",
              "    0% {\n",
              "      border-color: transparent;\n",
              "      border-bottom-color: var(--fill-color);\n",
              "      border-left-color: var(--fill-color);\n",
              "    }\n",
              "    20% {\n",
              "      border-color: transparent;\n",
              "      border-left-color: var(--fill-color);\n",
              "      border-top-color: var(--fill-color);\n",
              "    }\n",
              "    30% {\n",
              "      border-color: transparent;\n",
              "      border-left-color: var(--fill-color);\n",
              "      border-top-color: var(--fill-color);\n",
              "      border-right-color: var(--fill-color);\n",
              "    }\n",
              "    40% {\n",
              "      border-color: transparent;\n",
              "      border-right-color: var(--fill-color);\n",
              "      border-top-color: var(--fill-color);\n",
              "    }\n",
              "    60% {\n",
              "      border-color: transparent;\n",
              "      border-right-color: var(--fill-color);\n",
              "    }\n",
              "    80% {\n",
              "      border-color: transparent;\n",
              "      border-right-color: var(--fill-color);\n",
              "      border-bottom-color: var(--fill-color);\n",
              "    }\n",
              "    90% {\n",
              "      border-color: transparent;\n",
              "      border-bottom-color: var(--fill-color);\n",
              "    }\n",
              "  }\n",
              "</style>\n",
              "\n",
              "      <script>\n",
              "        async function quickchart(key) {\n",
              "          const quickchartButtonEl =\n",
              "            document.querySelector('#' + key + ' button');\n",
              "          quickchartButtonEl.disabled = true;  // To prevent multiple clicks.\n",
              "          quickchartButtonEl.classList.add('colab-df-spinner');\n",
              "          try {\n",
              "            const charts = await google.colab.kernel.invokeFunction(\n",
              "                'suggestCharts', [key], {});\n",
              "          } catch (error) {\n",
              "            console.error('Error during call to suggestCharts:', error);\n",
              "          }\n",
              "          quickchartButtonEl.classList.remove('colab-df-spinner');\n",
              "          quickchartButtonEl.classList.add('colab-df-quickchart-complete');\n",
              "        }\n",
              "        (() => {\n",
              "          let quickchartButtonEl =\n",
              "            document.querySelector('#df-e83bfd27-2938-4c4c-94e6-649deedadafe button');\n",
              "          quickchartButtonEl.style.display =\n",
              "            google.colab.kernel.accessAllowed ? 'block' : 'none';\n",
              "        })();\n",
              "      </script>\n",
              "    </div>\n",
              "\n",
              "  <div id=\"id_08f64917-58b3-4daf-b7f1-19743bd66593\">\n",
              "    <style>\n",
              "      .colab-df-generate {\n",
              "        background-color: #E8F0FE;\n",
              "        border: none;\n",
              "        border-radius: 50%;\n",
              "        cursor: pointer;\n",
              "        display: none;\n",
              "        fill: #1967D2;\n",
              "        height: 32px;\n",
              "        padding: 0 0 0 0;\n",
              "        width: 32px;\n",
              "      }\n",
              "\n",
              "      .colab-df-generate:hover {\n",
              "        background-color: #E2EBFA;\n",
              "        box-shadow: 0px 1px 2px rgba(60, 64, 67, 0.3), 0px 1px 3px 1px rgba(60, 64, 67, 0.15);\n",
              "        fill: #174EA6;\n",
              "      }\n",
              "\n",
              "      [theme=dark] .colab-df-generate {\n",
              "        background-color: #3B4455;\n",
              "        fill: #D2E3FC;\n",
              "      }\n",
              "\n",
              "      [theme=dark] .colab-df-generate:hover {\n",
              "        background-color: #434B5C;\n",
              "        box-shadow: 0px 1px 3px 1px rgba(0, 0, 0, 0.15);\n",
              "        filter: drop-shadow(0px 1px 2px rgba(0, 0, 0, 0.3));\n",
              "        fill: #FFFFFF;\n",
              "      }\n",
              "    </style>\n",
              "    <button class=\"colab-df-generate\" onclick=\"generateWithVariable('movies_df')\"\n",
              "            title=\"Generate code using this dataframe.\"\n",
              "            style=\"display:none;\">\n",
              "\n",
              "  <svg xmlns=\"http://www.w3.org/2000/svg\" height=\"24px\"viewBox=\"0 0 24 24\"\n",
              "       width=\"24px\">\n",
              "    <path d=\"M7,19H8.4L18.45,9,17,7.55,7,17.6ZM5,21V16.75L18.45,3.32a2,2,0,0,1,2.83,0l1.4,1.43a1.91,1.91,0,0,1,.58,1.4,1.91,1.91,0,0,1-.58,1.4L9.25,21ZM18.45,9,17,7.55Zm-12,3A5.31,5.31,0,0,0,4.9,8.1,5.31,5.31,0,0,0,1,6.5,5.31,5.31,0,0,0,4.9,4.9,5.31,5.31,0,0,0,6.5,1,5.31,5.31,0,0,0,8.1,4.9,5.31,5.31,0,0,0,12,6.5,5.46,5.46,0,0,0,6.5,12Z\"/>\n",
              "  </svg>\n",
              "    </button>\n",
              "    <script>\n",
              "      (() => {\n",
              "      const buttonEl =\n",
              "        document.querySelector('#id_08f64917-58b3-4daf-b7f1-19743bd66593 button.colab-df-generate');\n",
              "      buttonEl.style.display =\n",
              "        google.colab.kernel.accessAllowed ? 'block' : 'none';\n",
              "\n",
              "      buttonEl.onclick = () => {\n",
              "        google.colab.notebook.generateWithVariable('movies_df');\n",
              "      }\n",
              "      })();\n",
              "    </script>\n",
              "  </div>\n",
              "\n",
              "    </div>\n",
              "  </div>\n"
            ],
            "application/vnd.google.colaboratory.intrinsic+json": {
              "type": "dataframe",
              "variable_name": "movies_df",
              "summary": "{\n  \"name\": \"movies_df\",\n  \"rows\": 25,\n  \"fields\": [\n    {\n      \"column\": \"Title\",\n      \"properties\": {\n        \"dtype\": \"string\",\n        \"num_unique_values\": 25,\n        \"samples\": [\n          \"9. The Lord of the Rings: The Fellowship of the Ring\",\n          \"17. Goodfellas\",\n          \"1. The Shawshank Redemption\"\n        ],\n        \"semantic_type\": \"\",\n        \"description\": \"\"\n      }\n    },\n    {\n      \"column\": \"Release Year\",\n      \"properties\": {\n        \"dtype\": \"object\",\n        \"num_unique_values\": 21,\n        \"samples\": [\n          \"1994\",\n          \"1946\",\n          \"1975\"\n        ],\n        \"semantic_type\": \"\",\n        \"description\": \"\"\n      }\n    },\n    {\n      \"column\": \"Genres\",\n      \"properties\": {\n        \"dtype\": \"string\",\n        \"num_unique_values\": 19,\n        \"samples\": [\n          \"Drama\",\n          \"Adventure, Drama, Western\",\n          \"Biography, Crime, Drama\"\n        ],\n        \"semantic_type\": \"\",\n        \"description\": \"\"\n      }\n    },\n    {\n      \"column\": \"Runtime\",\n      \"properties\": {\n        \"dtype\": \"string\",\n        \"num_unique_values\": 22,\n        \"samples\": [\n          \"2h 22m\",\n          \"2h 16m\",\n          \"2h 58m\"\n        ],\n        \"semantic_type\": \"\",\n        \"description\": \"\"\n      }\n    },\n    {\n      \"column\": \"Rating\",\n      \"properties\": {\n        \"dtype\": \"category\",\n        \"num_unique_values\": 8,\n        \"samples\": [\n          \"9.2\",\n          \"8.9\",\n          \"9.3\"\n        ],\n        \"semantic_type\": \"\",\n        \"description\": \"\"\n      }\n    },\n    {\n      \"column\": \"Age Rating\",\n      \"properties\": {\n        \"dtype\": \"category\",\n        \"num_unique_values\": 5,\n        \"samples\": [\n          \"PG-13\",\n          \"Not Rated\",\n          \"Approved\"\n        ],\n        \"semantic_type\": \"\",\n        \"description\": \"\"\n      }\n    }\n  ]\n}"
            }
          },
          "metadata": {},
          "execution_count": 5
        }
      ]
    },
    {
      "cell_type": "code",
      "source": [
        "movies_df.to_csv(\"uncleaned_imdb.csv\", index=False)"
      ],
      "metadata": {
        "id": "wHPOyCtvzfyR"
      },
      "execution_count": 6,
      "outputs": []
    },
    {
      "cell_type": "code",
      "source": [
        "from google.colab import files\n",
        "files.download(\"uncleaned_imdb.csv\")"
      ],
      "metadata": {
        "colab": {
          "base_uri": "https://localhost:8080/",
          "height": 17
        },
        "id": "ThevfhLrzuKM",
        "outputId": "eee752d6-8c1e-4018-9923-bb2dbe48ff93"
      },
      "execution_count": 7,
      "outputs": [
        {
          "output_type": "display_data",
          "data": {
            "text/plain": [
              "<IPython.core.display.Javascript object>"
            ],
            "application/javascript": [
              "\n",
              "    async function download(id, filename, size) {\n",
              "      if (!google.colab.kernel.accessAllowed) {\n",
              "        return;\n",
              "      }\n",
              "      const div = document.createElement('div');\n",
              "      const label = document.createElement('label');\n",
              "      label.textContent = `Downloading \"${filename}\": `;\n",
              "      div.appendChild(label);\n",
              "      const progress = document.createElement('progress');\n",
              "      progress.max = size;\n",
              "      div.appendChild(progress);\n",
              "      document.body.appendChild(div);\n",
              "\n",
              "      const buffers = [];\n",
              "      let downloaded = 0;\n",
              "\n",
              "      const channel = await google.colab.kernel.comms.open(id);\n",
              "      // Send a message to notify the kernel that we're ready.\n",
              "      channel.send({})\n",
              "\n",
              "      for await (const message of channel.messages) {\n",
              "        // Send a message to notify the kernel that we're ready.\n",
              "        channel.send({})\n",
              "        if (message.buffers) {\n",
              "          for (const buffer of message.buffers) {\n",
              "            buffers.push(buffer);\n",
              "            downloaded += buffer.byteLength;\n",
              "            progress.value = downloaded;\n",
              "          }\n",
              "        }\n",
              "      }\n",
              "      const blob = new Blob(buffers, {type: 'application/binary'});\n",
              "      const a = document.createElement('a');\n",
              "      a.href = window.URL.createObjectURL(blob);\n",
              "      a.download = filename;\n",
              "      div.appendChild(a);\n",
              "      a.click();\n",
              "      div.remove();\n",
              "    }\n",
              "  "
            ]
          },
          "metadata": {}
        },
        {
          "output_type": "display_data",
          "data": {
            "text/plain": [
              "<IPython.core.display.Javascript object>"
            ],
            "application/javascript": [
              "download(\"download_15d37fba-adab-4713-aac9-cdf103800fe5\", \"uncleaned_imdb.csv\", 1701)"
            ]
          },
          "metadata": {}
        }
      ]
    },
    {
      "cell_type": "markdown",
      "source": [
        "## Cleaning Data"
      ],
      "metadata": {
        "id": "iAsXzITqo_ui"
      }
    },
    {
      "cell_type": "markdown",
      "source": [
        "To prepare the dataset, the following transformations were applied:\n",
        "* Removed numbering from titles (e.g., Shawshank Redemption\")\n",
        "* Converted \"Release Year\" and \"Runtime\" to integer values.\n",
        "* Converted \"Rating\" to a float.\n",
        "* Ensured that the \"Age Rating\" adheres to the Motion Picture Association's film rating system."
      ],
      "metadata": {
        "id": "KVJ24cmhKY3V"
      }
    },
    {
      "cell_type": "code",
      "source": [
        "# Convert data types\n",
        "movies_df[\"Release Year\"] = movies_df[\"Release Year\"].astype(int)\n",
        "movies_df[\"Rating\"] = movies_df[\"Rating\"].astype(float)"
      ],
      "metadata": {
        "id": "MU5sbz7NnUT1"
      },
      "execution_count": 8,
      "outputs": []
    },
    {
      "cell_type": "code",
      "source": [
        "# Removes extraneous numbering from movie titles\n",
        "def remove_numbering(title):\n",
        "    return title.split(\".\")[1].strip()"
      ],
      "metadata": {
        "id": "a59rdVcw9uTw"
      },
      "execution_count": 9,
      "outputs": []
    },
    {
      "cell_type": "code",
      "source": [
        "# Convert runtime into minutes for easier analysis\n",
        "def parse_runtime(runtime_str):\n",
        "    parts = runtime_str.split()\n",
        "    total_minutes = 0\n",
        "    for part in parts:\n",
        "        if 'h' in part:\n",
        "            total_minutes += int(part.replace('h','')) * 60\n",
        "        elif 'm' in part:\n",
        "            total_minutes += int(part.replace('m',''))\n",
        "    return total_minutes"
      ],
      "metadata": {
        "id": "Vuwb6ntiKW55"
      },
      "execution_count": 10,
      "outputs": []
    },
    {
      "cell_type": "code",
      "source": [
        "movies_df[\"Runtime\"] = movies_df[\"Runtime\"].apply(parse_runtime)\n",
        "movies_df[\"Title\"] = movies_df[\"Title\"].apply(remove_numbering)"
      ],
      "metadata": {
        "id": "qX0DNtCdn-oE"
      },
      "execution_count": 11,
      "outputs": []
    },
    {
      "cell_type": "code",
      "source": [
        "movies_df.head(25)"
      ],
      "metadata": {
        "colab": {
          "base_uri": "https://localhost:8080/",
          "height": 833
        },
        "id": "OKWa79tJ_APD",
        "outputId": "d3eb647c-80b2-4891-8927-0e8b347b1beb"
      },
      "execution_count": 12,
      "outputs": [
        {
          "output_type": "execute_result",
          "data": {
            "text/plain": [
              "                                                Title  Release Year  \\\n",
              "0                            The Shawshank Redemption          1994   \n",
              "1                                       The Godfather          1972   \n",
              "2                                     The Dark Knight          2008   \n",
              "3                               The Godfather Part II          1974   \n",
              "4                                        12 Angry Men          1957   \n",
              "5       The Lord of the Rings: The Return of the King          2003   \n",
              "6                                    Schindler's List          1993   \n",
              "7                                        Pulp Fiction          1994   \n",
              "8   The Lord of the Rings: The Fellowship of the Ring          2001   \n",
              "9                      The Good, the Bad and the Ugly          1966   \n",
              "10                                       Forrest Gump          1994   \n",
              "11              The Lord of the Rings: The Two Towers          2002   \n",
              "12                                         Fight Club          1999   \n",
              "13                                          Inception          2010   \n",
              "14     Star Wars: Episode V - The Empire Strikes Back          1980   \n",
              "15                                         The Matrix          1999   \n",
              "16                                         Goodfellas          1990   \n",
              "17                                       Interstellar          2014   \n",
              "18                    One Flew Over the Cuckoo's Nest          1975   \n",
              "19                                              Se7en          1995   \n",
              "20                              It's a Wonderful Life          1946   \n",
              "21                           The Silence of the Lambs          1991   \n",
              "22                                      Seven Samurai          1954   \n",
              "23                                Saving Private Ryan          1998   \n",
              "24                                     The Green Mile          1999   \n",
              "\n",
              "                        Genres  Runtime  Rating Age Rating  \n",
              "0                        Drama      142     9.3          R  \n",
              "1                 Crime, Drama      175     9.2          R  \n",
              "2         Action, Crime, Drama      152     9.1      PG-13  \n",
              "3                 Crime, Drama      202     9.0          R  \n",
              "4                 Crime, Drama       96     9.0   Approved  \n",
              "5    Adventure, Drama, Fantasy      201     9.0      PG-13  \n",
              "6    Biography, Drama, History      195     9.0          R  \n",
              "7                 Crime, Drama      154     8.8          R  \n",
              "8    Adventure, Drama, Fantasy      178     8.9      PG-13  \n",
              "9    Adventure, Drama, Western      178     8.8          R  \n",
              "10              Drama, Romance      142     8.8      PG-13  \n",
              "11   Adventure, Drama, Fantasy      179     8.8      PG-13  \n",
              "12      Crime, Drama, Thriller      139     8.8          R  \n",
              "13   Action, Adventure, Sci-Fi      148     8.8      PG-13  \n",
              "14  Action, Adventure, Fantasy      124     8.7         PG  \n",
              "15              Action, Sci-Fi      136     8.7          R  \n",
              "16     Biography, Crime, Drama      145     8.7          R  \n",
              "17    Adventure, Drama, Sci-Fi      169     8.7      PG-13  \n",
              "18                       Drama      133     8.7          R  \n",
              "19       Crime, Drama, Mystery      127     8.6          R  \n",
              "20      Drama, Family, Fantasy      130     8.6         PG  \n",
              "21        Crime, Drama, Horror      118     8.6          R  \n",
              "22               Action, Drama      207     8.6  Not Rated  \n",
              "23                  Drama, War      169     8.6          R  \n",
              "24       Crime, Drama, Fantasy      189     8.6          R  "
            ],
            "text/html": [
              "\n",
              "  <div id=\"df-2505b249-2529-4354-83b7-6a25aa2c4580\" class=\"colab-df-container\">\n",
              "    <div>\n",
              "<style scoped>\n",
              "    .dataframe tbody tr th:only-of-type {\n",
              "        vertical-align: middle;\n",
              "    }\n",
              "\n",
              "    .dataframe tbody tr th {\n",
              "        vertical-align: top;\n",
              "    }\n",
              "\n",
              "    .dataframe thead th {\n",
              "        text-align: right;\n",
              "    }\n",
              "</style>\n",
              "<table border=\"1\" class=\"dataframe\">\n",
              "  <thead>\n",
              "    <tr style=\"text-align: right;\">\n",
              "      <th></th>\n",
              "      <th>Title</th>\n",
              "      <th>Release Year</th>\n",
              "      <th>Genres</th>\n",
              "      <th>Runtime</th>\n",
              "      <th>Rating</th>\n",
              "      <th>Age Rating</th>\n",
              "    </tr>\n",
              "  </thead>\n",
              "  <tbody>\n",
              "    <tr>\n",
              "      <th>0</th>\n",
              "      <td>The Shawshank Redemption</td>\n",
              "      <td>1994</td>\n",
              "      <td>Drama</td>\n",
              "      <td>142</td>\n",
              "      <td>9.3</td>\n",
              "      <td>R</td>\n",
              "    </tr>\n",
              "    <tr>\n",
              "      <th>1</th>\n",
              "      <td>The Godfather</td>\n",
              "      <td>1972</td>\n",
              "      <td>Crime, Drama</td>\n",
              "      <td>175</td>\n",
              "      <td>9.2</td>\n",
              "      <td>R</td>\n",
              "    </tr>\n",
              "    <tr>\n",
              "      <th>2</th>\n",
              "      <td>The Dark Knight</td>\n",
              "      <td>2008</td>\n",
              "      <td>Action, Crime, Drama</td>\n",
              "      <td>152</td>\n",
              "      <td>9.1</td>\n",
              "      <td>PG-13</td>\n",
              "    </tr>\n",
              "    <tr>\n",
              "      <th>3</th>\n",
              "      <td>The Godfather Part II</td>\n",
              "      <td>1974</td>\n",
              "      <td>Crime, Drama</td>\n",
              "      <td>202</td>\n",
              "      <td>9.0</td>\n",
              "      <td>R</td>\n",
              "    </tr>\n",
              "    <tr>\n",
              "      <th>4</th>\n",
              "      <td>12 Angry Men</td>\n",
              "      <td>1957</td>\n",
              "      <td>Crime, Drama</td>\n",
              "      <td>96</td>\n",
              "      <td>9.0</td>\n",
              "      <td>Approved</td>\n",
              "    </tr>\n",
              "    <tr>\n",
              "      <th>5</th>\n",
              "      <td>The Lord of the Rings: The Return of the King</td>\n",
              "      <td>2003</td>\n",
              "      <td>Adventure, Drama, Fantasy</td>\n",
              "      <td>201</td>\n",
              "      <td>9.0</td>\n",
              "      <td>PG-13</td>\n",
              "    </tr>\n",
              "    <tr>\n",
              "      <th>6</th>\n",
              "      <td>Schindler's List</td>\n",
              "      <td>1993</td>\n",
              "      <td>Biography, Drama, History</td>\n",
              "      <td>195</td>\n",
              "      <td>9.0</td>\n",
              "      <td>R</td>\n",
              "    </tr>\n",
              "    <tr>\n",
              "      <th>7</th>\n",
              "      <td>Pulp Fiction</td>\n",
              "      <td>1994</td>\n",
              "      <td>Crime, Drama</td>\n",
              "      <td>154</td>\n",
              "      <td>8.8</td>\n",
              "      <td>R</td>\n",
              "    </tr>\n",
              "    <tr>\n",
              "      <th>8</th>\n",
              "      <td>The Lord of the Rings: The Fellowship of the Ring</td>\n",
              "      <td>2001</td>\n",
              "      <td>Adventure, Drama, Fantasy</td>\n",
              "      <td>178</td>\n",
              "      <td>8.9</td>\n",
              "      <td>PG-13</td>\n",
              "    </tr>\n",
              "    <tr>\n",
              "      <th>9</th>\n",
              "      <td>The Good, the Bad and the Ugly</td>\n",
              "      <td>1966</td>\n",
              "      <td>Adventure, Drama, Western</td>\n",
              "      <td>178</td>\n",
              "      <td>8.8</td>\n",
              "      <td>R</td>\n",
              "    </tr>\n",
              "    <tr>\n",
              "      <th>10</th>\n",
              "      <td>Forrest Gump</td>\n",
              "      <td>1994</td>\n",
              "      <td>Drama, Romance</td>\n",
              "      <td>142</td>\n",
              "      <td>8.8</td>\n",
              "      <td>PG-13</td>\n",
              "    </tr>\n",
              "    <tr>\n",
              "      <th>11</th>\n",
              "      <td>The Lord of the Rings: The Two Towers</td>\n",
              "      <td>2002</td>\n",
              "      <td>Adventure, Drama, Fantasy</td>\n",
              "      <td>179</td>\n",
              "      <td>8.8</td>\n",
              "      <td>PG-13</td>\n",
              "    </tr>\n",
              "    <tr>\n",
              "      <th>12</th>\n",
              "      <td>Fight Club</td>\n",
              "      <td>1999</td>\n",
              "      <td>Crime, Drama, Thriller</td>\n",
              "      <td>139</td>\n",
              "      <td>8.8</td>\n",
              "      <td>R</td>\n",
              "    </tr>\n",
              "    <tr>\n",
              "      <th>13</th>\n",
              "      <td>Inception</td>\n",
              "      <td>2010</td>\n",
              "      <td>Action, Adventure, Sci-Fi</td>\n",
              "      <td>148</td>\n",
              "      <td>8.8</td>\n",
              "      <td>PG-13</td>\n",
              "    </tr>\n",
              "    <tr>\n",
              "      <th>14</th>\n",
              "      <td>Star Wars: Episode V - The Empire Strikes Back</td>\n",
              "      <td>1980</td>\n",
              "      <td>Action, Adventure, Fantasy</td>\n",
              "      <td>124</td>\n",
              "      <td>8.7</td>\n",
              "      <td>PG</td>\n",
              "    </tr>\n",
              "    <tr>\n",
              "      <th>15</th>\n",
              "      <td>The Matrix</td>\n",
              "      <td>1999</td>\n",
              "      <td>Action, Sci-Fi</td>\n",
              "      <td>136</td>\n",
              "      <td>8.7</td>\n",
              "      <td>R</td>\n",
              "    </tr>\n",
              "    <tr>\n",
              "      <th>16</th>\n",
              "      <td>Goodfellas</td>\n",
              "      <td>1990</td>\n",
              "      <td>Biography, Crime, Drama</td>\n",
              "      <td>145</td>\n",
              "      <td>8.7</td>\n",
              "      <td>R</td>\n",
              "    </tr>\n",
              "    <tr>\n",
              "      <th>17</th>\n",
              "      <td>Interstellar</td>\n",
              "      <td>2014</td>\n",
              "      <td>Adventure, Drama, Sci-Fi</td>\n",
              "      <td>169</td>\n",
              "      <td>8.7</td>\n",
              "      <td>PG-13</td>\n",
              "    </tr>\n",
              "    <tr>\n",
              "      <th>18</th>\n",
              "      <td>One Flew Over the Cuckoo's Nest</td>\n",
              "      <td>1975</td>\n",
              "      <td>Drama</td>\n",
              "      <td>133</td>\n",
              "      <td>8.7</td>\n",
              "      <td>R</td>\n",
              "    </tr>\n",
              "    <tr>\n",
              "      <th>19</th>\n",
              "      <td>Se7en</td>\n",
              "      <td>1995</td>\n",
              "      <td>Crime, Drama, Mystery</td>\n",
              "      <td>127</td>\n",
              "      <td>8.6</td>\n",
              "      <td>R</td>\n",
              "    </tr>\n",
              "    <tr>\n",
              "      <th>20</th>\n",
              "      <td>It's a Wonderful Life</td>\n",
              "      <td>1946</td>\n",
              "      <td>Drama, Family, Fantasy</td>\n",
              "      <td>130</td>\n",
              "      <td>8.6</td>\n",
              "      <td>PG</td>\n",
              "    </tr>\n",
              "    <tr>\n",
              "      <th>21</th>\n",
              "      <td>The Silence of the Lambs</td>\n",
              "      <td>1991</td>\n",
              "      <td>Crime, Drama, Horror</td>\n",
              "      <td>118</td>\n",
              "      <td>8.6</td>\n",
              "      <td>R</td>\n",
              "    </tr>\n",
              "    <tr>\n",
              "      <th>22</th>\n",
              "      <td>Seven Samurai</td>\n",
              "      <td>1954</td>\n",
              "      <td>Action, Drama</td>\n",
              "      <td>207</td>\n",
              "      <td>8.6</td>\n",
              "      <td>Not Rated</td>\n",
              "    </tr>\n",
              "    <tr>\n",
              "      <th>23</th>\n",
              "      <td>Saving Private Ryan</td>\n",
              "      <td>1998</td>\n",
              "      <td>Drama, War</td>\n",
              "      <td>169</td>\n",
              "      <td>8.6</td>\n",
              "      <td>R</td>\n",
              "    </tr>\n",
              "    <tr>\n",
              "      <th>24</th>\n",
              "      <td>The Green Mile</td>\n",
              "      <td>1999</td>\n",
              "      <td>Crime, Drama, Fantasy</td>\n",
              "      <td>189</td>\n",
              "      <td>8.6</td>\n",
              "      <td>R</td>\n",
              "    </tr>\n",
              "  </tbody>\n",
              "</table>\n",
              "</div>\n",
              "    <div class=\"colab-df-buttons\">\n",
              "\n",
              "  <div class=\"colab-df-container\">\n",
              "    <button class=\"colab-df-convert\" onclick=\"convertToInteractive('df-2505b249-2529-4354-83b7-6a25aa2c4580')\"\n",
              "            title=\"Convert this dataframe to an interactive table.\"\n",
              "            style=\"display:none;\">\n",
              "\n",
              "  <svg xmlns=\"http://www.w3.org/2000/svg\" height=\"24px\" viewBox=\"0 -960 960 960\">\n",
              "    <path d=\"M120-120v-720h720v720H120Zm60-500h600v-160H180v160Zm220 220h160v-160H400v160Zm0 220h160v-160H400v160ZM180-400h160v-160H180v160Zm440 0h160v-160H620v160ZM180-180h160v-160H180v160Zm440 0h160v-160H620v160Z\"/>\n",
              "  </svg>\n",
              "    </button>\n",
              "\n",
              "  <style>\n",
              "    .colab-df-container {\n",
              "      display:flex;\n",
              "      gap: 12px;\n",
              "    }\n",
              "\n",
              "    .colab-df-convert {\n",
              "      background-color: #E8F0FE;\n",
              "      border: none;\n",
              "      border-radius: 50%;\n",
              "      cursor: pointer;\n",
              "      display: none;\n",
              "      fill: #1967D2;\n",
              "      height: 32px;\n",
              "      padding: 0 0 0 0;\n",
              "      width: 32px;\n",
              "    }\n",
              "\n",
              "    .colab-df-convert:hover {\n",
              "      background-color: #E2EBFA;\n",
              "      box-shadow: 0px 1px 2px rgba(60, 64, 67, 0.3), 0px 1px 3px 1px rgba(60, 64, 67, 0.15);\n",
              "      fill: #174EA6;\n",
              "    }\n",
              "\n",
              "    .colab-df-buttons div {\n",
              "      margin-bottom: 4px;\n",
              "    }\n",
              "\n",
              "    [theme=dark] .colab-df-convert {\n",
              "      background-color: #3B4455;\n",
              "      fill: #D2E3FC;\n",
              "    }\n",
              "\n",
              "    [theme=dark] .colab-df-convert:hover {\n",
              "      background-color: #434B5C;\n",
              "      box-shadow: 0px 1px 3px 1px rgba(0, 0, 0, 0.15);\n",
              "      filter: drop-shadow(0px 1px 2px rgba(0, 0, 0, 0.3));\n",
              "      fill: #FFFFFF;\n",
              "    }\n",
              "  </style>\n",
              "\n",
              "    <script>\n",
              "      const buttonEl =\n",
              "        document.querySelector('#df-2505b249-2529-4354-83b7-6a25aa2c4580 button.colab-df-convert');\n",
              "      buttonEl.style.display =\n",
              "        google.colab.kernel.accessAllowed ? 'block' : 'none';\n",
              "\n",
              "      async function convertToInteractive(key) {\n",
              "        const element = document.querySelector('#df-2505b249-2529-4354-83b7-6a25aa2c4580');\n",
              "        const dataTable =\n",
              "          await google.colab.kernel.invokeFunction('convertToInteractive',\n",
              "                                                    [key], {});\n",
              "        if (!dataTable) return;\n",
              "\n",
              "        const docLinkHtml = 'Like what you see? Visit the ' +\n",
              "          '<a target=\"_blank\" href=https://colab.research.google.com/notebooks/data_table.ipynb>data table notebook</a>'\n",
              "          + ' to learn more about interactive tables.';\n",
              "        element.innerHTML = '';\n",
              "        dataTable['output_type'] = 'display_data';\n",
              "        await google.colab.output.renderOutput(dataTable, element);\n",
              "        const docLink = document.createElement('div');\n",
              "        docLink.innerHTML = docLinkHtml;\n",
              "        element.appendChild(docLink);\n",
              "      }\n",
              "    </script>\n",
              "  </div>\n",
              "\n",
              "\n",
              "    <div id=\"df-c55b667c-6ea9-401d-a23d-f9917647843a\">\n",
              "      <button class=\"colab-df-quickchart\" onclick=\"quickchart('df-c55b667c-6ea9-401d-a23d-f9917647843a')\"\n",
              "                title=\"Suggest charts\"\n",
              "                style=\"display:none;\">\n",
              "\n",
              "<svg xmlns=\"http://www.w3.org/2000/svg\" height=\"24px\"viewBox=\"0 0 24 24\"\n",
              "     width=\"24px\">\n",
              "    <g>\n",
              "        <path d=\"M19 3H5c-1.1 0-2 .9-2 2v14c0 1.1.9 2 2 2h14c1.1 0 2-.9 2-2V5c0-1.1-.9-2-2-2zM9 17H7v-7h2v7zm4 0h-2V7h2v10zm4 0h-2v-4h2v4z\"/>\n",
              "    </g>\n",
              "</svg>\n",
              "      </button>\n",
              "\n",
              "<style>\n",
              "  .colab-df-quickchart {\n",
              "      --bg-color: #E8F0FE;\n",
              "      --fill-color: #1967D2;\n",
              "      --hover-bg-color: #E2EBFA;\n",
              "      --hover-fill-color: #174EA6;\n",
              "      --disabled-fill-color: #AAA;\n",
              "      --disabled-bg-color: #DDD;\n",
              "  }\n",
              "\n",
              "  [theme=dark] .colab-df-quickchart {\n",
              "      --bg-color: #3B4455;\n",
              "      --fill-color: #D2E3FC;\n",
              "      --hover-bg-color: #434B5C;\n",
              "      --hover-fill-color: #FFFFFF;\n",
              "      --disabled-bg-color: #3B4455;\n",
              "      --disabled-fill-color: #666;\n",
              "  }\n",
              "\n",
              "  .colab-df-quickchart {\n",
              "    background-color: var(--bg-color);\n",
              "    border: none;\n",
              "    border-radius: 50%;\n",
              "    cursor: pointer;\n",
              "    display: none;\n",
              "    fill: var(--fill-color);\n",
              "    height: 32px;\n",
              "    padding: 0;\n",
              "    width: 32px;\n",
              "  }\n",
              "\n",
              "  .colab-df-quickchart:hover {\n",
              "    background-color: var(--hover-bg-color);\n",
              "    box-shadow: 0 1px 2px rgba(60, 64, 67, 0.3), 0 1px 3px 1px rgba(60, 64, 67, 0.15);\n",
              "    fill: var(--button-hover-fill-color);\n",
              "  }\n",
              "\n",
              "  .colab-df-quickchart-complete:disabled,\n",
              "  .colab-df-quickchart-complete:disabled:hover {\n",
              "    background-color: var(--disabled-bg-color);\n",
              "    fill: var(--disabled-fill-color);\n",
              "    box-shadow: none;\n",
              "  }\n",
              "\n",
              "  .colab-df-spinner {\n",
              "    border: 2px solid var(--fill-color);\n",
              "    border-color: transparent;\n",
              "    border-bottom-color: var(--fill-color);\n",
              "    animation:\n",
              "      spin 1s steps(1) infinite;\n",
              "  }\n",
              "\n",
              "  @keyframes spin {\n",
              "    0% {\n",
              "      border-color: transparent;\n",
              "      border-bottom-color: var(--fill-color);\n",
              "      border-left-color: var(--fill-color);\n",
              "    }\n",
              "    20% {\n",
              "      border-color: transparent;\n",
              "      border-left-color: var(--fill-color);\n",
              "      border-top-color: var(--fill-color);\n",
              "    }\n",
              "    30% {\n",
              "      border-color: transparent;\n",
              "      border-left-color: var(--fill-color);\n",
              "      border-top-color: var(--fill-color);\n",
              "      border-right-color: var(--fill-color);\n",
              "    }\n",
              "    40% {\n",
              "      border-color: transparent;\n",
              "      border-right-color: var(--fill-color);\n",
              "      border-top-color: var(--fill-color);\n",
              "    }\n",
              "    60% {\n",
              "      border-color: transparent;\n",
              "      border-right-color: var(--fill-color);\n",
              "    }\n",
              "    80% {\n",
              "      border-color: transparent;\n",
              "      border-right-color: var(--fill-color);\n",
              "      border-bottom-color: var(--fill-color);\n",
              "    }\n",
              "    90% {\n",
              "      border-color: transparent;\n",
              "      border-bottom-color: var(--fill-color);\n",
              "    }\n",
              "  }\n",
              "</style>\n",
              "\n",
              "      <script>\n",
              "        async function quickchart(key) {\n",
              "          const quickchartButtonEl =\n",
              "            document.querySelector('#' + key + ' button');\n",
              "          quickchartButtonEl.disabled = true;  // To prevent multiple clicks.\n",
              "          quickchartButtonEl.classList.add('colab-df-spinner');\n",
              "          try {\n",
              "            const charts = await google.colab.kernel.invokeFunction(\n",
              "                'suggestCharts', [key], {});\n",
              "          } catch (error) {\n",
              "            console.error('Error during call to suggestCharts:', error);\n",
              "          }\n",
              "          quickchartButtonEl.classList.remove('colab-df-spinner');\n",
              "          quickchartButtonEl.classList.add('colab-df-quickchart-complete');\n",
              "        }\n",
              "        (() => {\n",
              "          let quickchartButtonEl =\n",
              "            document.querySelector('#df-c55b667c-6ea9-401d-a23d-f9917647843a button');\n",
              "          quickchartButtonEl.style.display =\n",
              "            google.colab.kernel.accessAllowed ? 'block' : 'none';\n",
              "        })();\n",
              "      </script>\n",
              "    </div>\n",
              "\n",
              "    </div>\n",
              "  </div>\n"
            ],
            "application/vnd.google.colaboratory.intrinsic+json": {
              "type": "dataframe",
              "variable_name": "movies_df",
              "summary": "{\n  \"name\": \"movies_df\",\n  \"rows\": 25,\n  \"fields\": [\n    {\n      \"column\": \"Title\",\n      \"properties\": {\n        \"dtype\": \"string\",\n        \"num_unique_values\": 25,\n        \"samples\": [\n          \"The Lord of the Rings: The Fellowship of the Ring\",\n          \"Goodfellas\",\n          \"The Shawshank Redemption\"\n        ],\n        \"semantic_type\": \"\",\n        \"description\": \"\"\n      }\n    },\n    {\n      \"column\": \"Release Year\",\n      \"properties\": {\n        \"dtype\": \"number\",\n        \"std\": 18,\n        \"min\": 1946,\n        \"max\": 2014,\n        \"num_unique_values\": 21,\n        \"samples\": [\n          1994,\n          1946,\n          1975\n        ],\n        \"semantic_type\": \"\",\n        \"description\": \"\"\n      }\n    },\n    {\n      \"column\": \"Genres\",\n      \"properties\": {\n        \"dtype\": \"string\",\n        \"num_unique_values\": 19,\n        \"samples\": [\n          \"Drama\",\n          \"Adventure, Drama, Western\",\n          \"Biography, Crime, Drama\"\n        ],\n        \"semantic_type\": \"\",\n        \"description\": \"\"\n      }\n    },\n    {\n      \"column\": \"Runtime\",\n      \"properties\": {\n        \"dtype\": \"number\",\n        \"std\": 29,\n        \"min\": 96,\n        \"max\": 207,\n        \"num_unique_values\": 22,\n        \"samples\": [\n          142,\n          136,\n          178\n        ],\n        \"semantic_type\": \"\",\n        \"description\": \"\"\n      }\n    },\n    {\n      \"column\": \"Rating\",\n      \"properties\": {\n        \"dtype\": \"number\",\n        \"std\": 0.1993322185030142,\n        \"min\": 8.6,\n        \"max\": 9.3,\n        \"num_unique_values\": 8,\n        \"samples\": [\n          9.2,\n          8.9,\n          9.3\n        ],\n        \"semantic_type\": \"\",\n        \"description\": \"\"\n      }\n    },\n    {\n      \"column\": \"Age Rating\",\n      \"properties\": {\n        \"dtype\": \"category\",\n        \"num_unique_values\": 5,\n        \"samples\": [\n          \"PG-13\",\n          \"Not Rated\",\n          \"Approved\"\n        ],\n        \"semantic_type\": \"\",\n        \"description\": \"\"\n      }\n    }\n  ]\n}"
            }
          },
          "metadata": {},
          "execution_count": 12
        }
      ]
    },
    {
      "cell_type": "markdown",
      "source": [
        "## Data Analysis and Visualizations"
      ],
      "metadata": {
        "id": "nbqsdu8apGDv"
      }
    },
    {
      "cell_type": "markdown",
      "source": [
        "### Data Analysis"
      ],
      "metadata": {
        "id": "vFa_wy7B0mB2"
      }
    },
    {
      "cell_type": "code",
      "source": [
        "print(\"Average IMDb Rating (Top 25 Movies):\", round(movies_df[\"Rating\"].mean(), 2))\n",
        "print(\"Median IMDb Rating (Top 25 Movies):\", round(movies_df[\"Rating\"].median(), 2))\n",
        "print(\"Minimum IMDb Rating (Top 25 Movies):\", movies_df[\"Rating\"].min())\n",
        "print(\"Maximum IMDb Rating (Top 25 Movies):\", movies_df[\"Rating\"].max())\n",
        "print(\"Release Years Range: \", movies_df[\"Release Year\"].min(), \"to\", movies_df[\"Release Year\"].max())\n",
        "print(\"Longest Movie: \", movies_df[\"Runtime\"].max(), \"minutes\")\n",
        "print(\"Shortest Movie: \", movies_df[\"Runtime\"].min(), \"minutes\")"
      ],
      "metadata": {
        "colab": {
          "base_uri": "https://localhost:8080/"
        },
        "id": "a4cQBuVeoG1P",
        "outputId": "c99adf2b-152a-45ef-8f77-0f695e340425"
      },
      "execution_count": 13,
      "outputs": [
        {
          "output_type": "stream",
          "name": "stdout",
          "text": [
            "Average IMDb Rating (Top 25 Movies): 8.82\n",
            "Median IMDb Rating (Top 25 Movies): 8.8\n",
            "Minimum IMDb Rating (Top 25 Movies): 8.6\n",
            "Maximum IMDb Rating (Top 25 Movies): 9.3\n",
            "Release Years Range:  1946 to 2014\n",
            "Longest Movie:  207 minutes\n",
            "Shortest Movie:  96 minutes\n"
          ]
        }
      ]
    },
    {
      "cell_type": "code",
      "source": [
        "age_rating_mean_ratings = movies_df.groupby(\"Age Rating\")[\"Rating\"].mean()\n",
        "print(\"Mean Rating by Age Rating:\\n\")\n",
        "print(age_rating_mean_ratings)"
      ],
      "metadata": {
        "colab": {
          "base_uri": "https://localhost:8080/"
        },
        "id": "9mOoUU86JQNV",
        "outputId": "69a12b1e-04a0-43fb-97f1-ceb328713434"
      },
      "execution_count": 14,
      "outputs": [
        {
          "output_type": "stream",
          "name": "stdout",
          "text": [
            "Mean Rating by Age Rating:\n",
            "\n",
            "Age Rating\n",
            "Approved     9.000000\n",
            "Not Rated    8.600000\n",
            "PG           8.650000\n",
            "PG-13        8.871429\n",
            "R            8.814286\n",
            "Name: Rating, dtype: float64\n"
          ]
        }
      ]
    },
    {
      "cell_type": "markdown",
      "source": [
        "### Data Visualizations (for the top 25 movies)"
      ],
      "metadata": {
        "id": "21_j1TaZpJXZ"
      }
    },
    {
      "cell_type": "code",
      "source": [
        "plt.figure(figsize=(8,5))\n",
        "sns.histplot(movies_df[\"Rating\"], bins=10, kde=True)\n",
        "plt.title(\"Distribution of IMDb Ratings\")\n",
        "plt.xlabel(\"Rating\")\n",
        "plt.ylabel(\"Count\")\n",
        "plt.show()"
      ],
      "metadata": {
        "colab": {
          "base_uri": "https://localhost:8080/",
          "height": 487
        },
        "collapsed": true,
        "id": "kUidqqbbL5Do",
        "outputId": "d8b2e565-8ffb-43ae-a617-09773c7b23f1"
      },
      "execution_count": 15,
      "outputs": [
        {
          "output_type": "display_data",
          "data": {
            "text/plain": [
              "<Figure size 800x500 with 1 Axes>"
            ],
            "image/png": "[encoded data removed]"
          },
          "metadata": {}
        }
      ]
    },
    {
      "cell_type": "code",
      "source": [
        "plt.figure(figsize=(8,5))\n",
        "sns.histplot(movies_df[\"Runtime\"], bins=25, kde=True)\n",
        "plt.title(\"Distribution of Movie Runtimes\")\n",
        "plt.xlabel(\"Runtime (minutes)\")\n",
        "plt.ylabel(\"Count\")\n",
        "plt.show()"
      ],
      "metadata": {
        "colab": {
          "base_uri": "https://localhost:8080/",
          "height": 487
        },
        "id": "BVCNh4Ffp2XP",
        "outputId": "27f34ef7-ed79-4f86-a038-106cf95119a7"
      },
      "execution_count": 16,
      "outputs": [
        {
          "output_type": "display_data",
          "data": {
            "text/plain": [
              "<Figure size 800x500 with 1 Axes>"
            ],
            "image/png": "[encoded data removed]"
          },
          "metadata": {}
        }
      ]
    },
    {
      "cell_type": "code",
      "source": [
        "movies_df[\"Decade\"] = (movies_df[\"Release Year\"] // 10) * 10\n",
        "decade_counts = movies_df[\"Decade\"].value_counts().sort_index()\n",
        "\n",
        "plt.figure(figsize=(8,5))\n",
        "sns.barplot(x=decade_counts.index, y=decade_counts.values)\n",
        "plt.title(\"Distribution of Movies per Decade\")\n",
        "plt.xlabel(\"Decade\")\n",
        "plt.ylabel(\"Count\")\n",
        "plt.show()"
      ],
      "metadata": {
        "colab": {
          "base_uri": "https://localhost:8080/",
          "height": 487
        },
        "id": "H69KYns9p6Ck",
        "outputId": "531a7274-3660-46fb-86a1-2ce61d0b98fd"
      },
      "execution_count": 17,
      "outputs": [
        {
          "output_type": "display_data",
          "data": {
            "text/plain": [
              "<Figure size 800x500 with 1 Axes>"
            ],
            "image/png": "[encoded data removed]"
          },
          "metadata": {}
        }
      ]
    },
    {
      "cell_type": "code",
      "source": [
        "age_rating_counts = movies_df[\"Age Rating\"].value_counts()\n",
        "\n",
        "plt.figure(figsize=(8,5))\n",
        "sns.barplot(x=age_rating_counts.index, y=age_rating_counts.values)\n",
        "plt.title(\"Distribution of Age Ratings\")\n",
        "plt.xlabel(\"Age Rating\")\n",
        "plt.ylabel(\"Count\")\n",
        "plt.show()"
      ],
      "metadata": {
        "colab": {
          "base_uri": "https://localhost:8080/",
          "height": 487
        },
        "id": "os1QfpN5GRUR",
        "outputId": "b2625aed-186a-47d8-8fa3-837a497609d3"
      },
      "execution_count": 18,
      "outputs": [
        {
          "output_type": "display_data",
          "data": {
            "text/plain": [
              "<Figure size 800x500 with 1 Axes>"
            ],
            "image/png": "[encoded data removed]"
          },
          "metadata": {}
        }
      ]
    },
    {
      "cell_type": "code",
      "source": [
        "age_rating_counts = movies_df.groupby([\"Decade\", \"Age Rating\"]).size().unstack(fill_value=0)\n",
        "\n",
        "age_rating_counts.plot(kind=\"bar\", stacked=True, figsize=(8,5))\n",
        "plt.title(\"Distribution of Age Ratings by Decade\")\n",
        "plt.xlabel(\"Decade\")\n",
        "plt.ylabel(\"Count\")\n",
        "plt.show()"
      ],
      "metadata": {
        "colab": {
          "base_uri": "https://localhost:8080/",
          "height": 508
        },
        "id": "72yak-QvdBNr",
        "outputId": "edccd978-53e3-4495-8706-3ee518404b68"
      },
      "execution_count": 19,
      "outputs": [
        {
          "output_type": "display_data",
          "data": {
            "text/plain": [
              "<Figure size 800x500 with 1 Axes>"
            ],
            "image/png": "[encoded data removed]"
          },
          "metadata": {}
        }
      ]
    },
    {
      "cell_type": "code",
      "source": [
        "all_genres = []\n",
        "for g in movies_df[\"Genres\"]:\n",
        "    if isinstance(g, list):\n",
        "        all_genres.extend(g)\n",
        "    else:\n",
        "        all_genres.extend([genre.strip() for genre in g.split(\",\")])\n",
        "\n",
        "genre_counts = Counter(all_genres)\n",
        "top_genres = pd.DataFrame(genre_counts.most_common(10), columns=[\"Genre\", \"Count\"])\n",
        "\n",
        "plt.figure(figsize=(8,5))\n",
        "sns.barplot(x=\"Count\", y=\"Genre\", data=top_genres)\n",
        "plt.title(\"Top 10 Most Common Genres\")\n",
        "plt.show()"
      ],
      "metadata": {
        "colab": {
          "base_uri": "https://localhost:8080/",
          "height": 487
        },
        "id": "fk1Mwyejp8_i",
        "outputId": "9348039f-ad8a-47b2-87a7-547a6fbc6943"
      },
      "execution_count": 20,
      "outputs": [
        {
          "output_type": "display_data",
          "data": {
            "text/plain": [
              "<Figure size 800x500 with 1 Axes>"
            ],
            "image/png": "[encoded data removed]"
          },
          "metadata": {}
        }
      ]
    },
    {
      "cell_type": "code",
      "source": [
        "genre_ratings = movies_df.explode(\"Genres\").groupby(\"Genres\")[\"Rating\"].mean().reset_index()\n",
        "genre_ratings = genre_ratings.sort_values(by=\"Rating\", ascending=False)\n",
        "\n",
        "plt.figure(figsize=(8,5))\n",
        "sns.barplot(x=\"Rating\", y=\"Genres\", data=genre_ratings.head(25))\n",
        "plt.title(\"Top 25 Genres by Average Rating\")\n",
        "plt.xlabel(\"Average Rating\")\n",
        "plt.ylabel(\"Genre\")\n",
        "plt.show()"
      ],
      "metadata": {
        "colab": {
          "base_uri": "https://localhost:8080/",
          "height": 487
        },
        "id": "rPpF0YxIISnQ",
        "outputId": "d6f48064-a02d-44db-95f1-001fee56c174"
      },
      "execution_count": 21,
      "outputs": [
        {
          "output_type": "display_data",
          "data": {
            "text/plain": [
              "<Figure size 800x500 with 1 Axes>"
            ],
            "image/png": "[encoded data removed]"
          },
          "metadata": {}
        }
      ]
    },
    {
      "cell_type": "code",
      "source": [
        "plt.figure(figsize=(8,5))\n",
        "sns.boxplot(x=\"Age Rating\", y=\"Rating\", data=movies_df)\n",
        "plt.title(\"Distribution of Ratings by Age Rating\")\n",
        "plt.xlabel(\"Age Rating\")\n",
        "plt.ylabel(\"Rating\")"
      ],
      "metadata": {
        "colab": {
          "base_uri": "https://localhost:8080/",
          "height": 505
        },
        "id": "h08HrUqwc80N",
        "outputId": "fb377be9-c00f-4f1f-a137-06e5a709e7ac"
      },
      "execution_count": 22,
      "outputs": [
        {
          "output_type": "execute_result",
          "data": {
            "text/plain": [
              "Text(0, 0.5, 'Rating')"
            ]
          },
          "metadata": {},
          "execution_count": 22
        },
        {
          "output_type": "display_data",
          "data": {
            "text/plain": [
              "<Figure size 800x500 with 1 Axes>"
            ],
            "image/png": "[encoded data removed]"
          },
          "metadata": {}
        }
      ]
    },
    {
      "cell_type": "code",
      "source": [
        "plt.figure(figsize=(8,5))\n",
        "sns.scatterplot(x=\"Runtime\", y=\"Rating\", hue=\"Age Rating\", data=movies_df)\n",
        "plt.title(\"Runtime vs. Rating by Age Rating\")\n",
        "plt.xlabel(\"Runtime (minutes)\")\n",
        "plt.ylabel(\"Rating\")\n",
        "plt.show()"
      ],
      "metadata": {
        "colab": {
          "base_uri": "https://localhost:8080/",
          "height": 487
        },
        "id": "kcNiXvlXdaAl",
        "outputId": "5a9630c7-6c2f-4a9d-ec45-b213071c1cce"
      },
      "execution_count": 23,
      "outputs": [
        {
          "output_type": "display_data",
          "data": {
            "text/plain": [
              "<Figure size 800x500 with 1 Axes>"
            ],
            "image/png": "[encoded data removed]"
          },
          "metadata": {}
        }
      ]
    },
    {
      "cell_type": "markdown",
      "source": [
        "## Insights"
      ],
      "metadata": {
        "id": "5uPb9Xbt91tT"
      }
    },
    {
      "cell_type": "markdown",
      "source": [
        "* The most common genre throughout the decades has been drama.\n",
        "* Most of the top movies were released in the 1990s.\n",
        "* R-rated movies have the highest occurrence, but PG-13 movies have a slightly higher average rating."
      ],
      "metadata": {
        "id": "gMrTyhzD94Wh"
      }
    },
    {
      "cell_type": "markdown",
      "source": [
        "## Limitations"
      ],
      "metadata": {
        "id": "8Z0e6EZP0I6a"
      }
    },
    {
      "cell_type": "markdown",
      "source": [
        "### Issues\n",
        "\n",
        "* The web scraping algorithm only permits scraping the top 25 movies, rather than the top 250.\n",
        "  * The website initially loads website loads the top movies and movies, then dynamically updates the as when the user scrolls down.\n",
        "* Age ratings vary across different countries, which significantly affects the results.\n",
        "\n",
        "### Future Improvements\n",
        "\n",
        "* Scrape box office data to analyze and predict profitability.\n",
        "* Include directors, main actors, and producers to assess their impact on profit and critical acclaim.\n",
        "* Scrape results from other review sites (e.g., Metacritic and Rotten Tomatoes)."
      ],
      "metadata": {
        "id": "KyniGYFJ0R4D"
      }
    },
    {
      "cell_type": "markdown",
      "source": [
        "## Conclusion"
      ],
      "metadata": {
        "id": "0yXWSb3a0NKn"
      }
    },
    {
      "cell_type": "markdown",
      "source": [
        "* Despite its limitations, this project successfully scraped and analyzed the top 25 movies from IMDb using Python. Cleaning and standardizing the dataset revealed that dramas, PG-13 and R-rated films, and movies from the 1990s are the most strongly represented. All top 25 films had ratings of 8.6 or higher, suggesting a potential cutoff point for films to be included on the list.\n",
        "\n",
        "* In summary, audience and critic preferences tend to favor dramas and R-rated movies. New viewers looking to start watching films can use this list as a guide to identify movies that are generally considered \"good\". Additionally, companies can leverage this information to refine recommendation systems and develop business strategies, enabling more informed decisions during the pre-production and financial planning phases.\n",
        "  * Since the audience's preferences are well established, recommendation systems can be optimized to enhance engagement and improve retention.\n",
        "  * Streaming services can focus on critically acclaimed critically-acclaimed movies and to build a diverse a catalogue.\n",
        "  * Production can focus on specific genres and rating categories that have been proven to success.\n",
        "\n"
      ],
      "metadata": {
        "id": "UzsKMYo20SyZ"
      }
    },
    {
      "cell_type": "markdown",
      "source": [
        "## Important Notes"
      ],
      "metadata": {
        "id": "RSAMcmi2ymGz"
      }
    },
    {
      "cell_type": "markdown",
      "source": [
        "* Most movies have multiple genres, so it is important not to create movies that are exclusively dramas.\n",
        "\n",
        "* Do not draw conclusions that R-rated movies are better than PG-13 and lower-rated movies, especially since the age rating system is not universally followed.\n",
        "\n",
        "* Ratings do not necessarily reflect quality, as user-driven reviews are not \"objective\" and may sometimes reflect biases towards certain genres.\n",
        "* Even though these movies are considered the \"best of the best, not every \"best movie\" will have a rating higher than 8.6.\n",
        "\n",
        "* Do not immediately assume that dramas, PG-13, and R-rated films will cause higher ratings, as other variables like directors, actors, and marketing may be causal factors.\n",
        "  * In other words, correlations do not imply causation, but they do not immediately rule out the possibility."
      ],
      "metadata": {
        "id": "hC61AlGNyUnO"
      }
    },
    {
      "cell_type": "markdown",
      "source": [
        "**The following results should be interpreted responsibly to prevent misleading directions and instead be used to open opportunities for further analysis; hence, the suggestion to review other review sites.**"
      ],
      "metadata": {
        "id": "xnoyUBoJysoa"
      }
    },
    {
      "cell_type": "markdown",
      "source": [
        "## Save to CSV"
      ],
      "metadata": {
        "id": "n5q0Jmuiy5hJ"
      }
    },
    {
      "cell_type": "code",
      "source": [
        "movies_df.to_csv(\"cleaned_imdb.csv\", index=False)"
      ],
      "metadata": {
        "id": "E2eWQTkhy9Jh"
      },
      "execution_count": 24,
      "outputs": []
    },
    {
      "cell_type": "code",
      "source": [
        "from google.colab import files\n",
        "files.download(\"cleaned_imdb.csv\")"
      ],
      "metadata": {
        "colab": {
          "base_uri": "https://localhost:8080/",
          "height": 17
        },
        "id": "Bcg4L0OlND0f",
        "outputId": "d4740098-50c1-4b56-a9ec-1becf19b08d3"
      },
      "execution_count": 25,
      "outputs": [
        {
          "output_type": "display_data",
          "data": {
            "text/plain": [
              "<IPython.core.display.Javascript object>"
            ],
            "application/javascript": [
              "\n",
              "    async function download(id, filename, size) {\n",
              "      if (!google.colab.kernel.accessAllowed) {\n",
              "        return;\n",
              "      }\n",
              "      const div = document.createElement('div');\n",
              "      const label = document.createElement('label');\n",
              "      label.textContent = `Downloading \"${filename}\": `;\n",
              "      div.appendChild(label);\n",
              "      const progress = document.createElement('progress');\n",
              "      progress.max = size;\n",
              "      div.appendChild(progress);\n",
              "      document.body.appendChild(div);\n",
              "\n",
              "      const buffers = [];\n",
              "      let downloaded = 0;\n",
              "\n",
              "      const channel = await google.colab.kernel.comms.open(id);\n",
              "      // Send a message to notify the kernel that we're ready.\n",
              "      channel.send({})\n",
              "\n",
              "      for await (const message of channel.messages) {\n",
              "        // Send a message to notify the kernel that we're ready.\n",
              "        channel.send({})\n",
              "        if (message.buffers) {\n",
              "          for (const buffer of message.buffers) {\n",
              "            buffers.push(buffer);\n",
              "            downloaded += buffer.byteLength;\n",
              "            progress.value = downloaded;\n",
              "          }\n",
              "        }\n",
              "      }\n",
              "      const blob = new Blob(buffers, {type: 'application/binary'});\n",
              "      const a = document.createElement('a');\n",
              "      a.href = window.URL.createObjectURL(blob);\n",
              "      a.download = filename;\n",
              "      div.appendChild(a);\n",
              "      a.click();\n",
              "      div.remove();\n",
              "    }\n",
              "  "
            ]
          },
          "metadata": {}
        },
        {
          "output_type": "display_data",
          "data": {
            "text/plain": [
              "<IPython.core.display.Javascript object>"
            ],
            "application/javascript": [
              "download(\"download_304deb72-5b4c-4fec-9001-d6e794337ceb\", \"cleaned_imdb.csv\", 1669)"
            ]
          },
          "metadata": {}
        }
      ]
    }
  ]
}